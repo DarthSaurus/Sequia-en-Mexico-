{
 "cells": [
  {
   "cell_type": "markdown",
   "metadata": {},
   "source": [
    "# Hola este es un nuevo proyecto en el que trabajamos @Suzette23 y yo @DarthSaurus para nuestro diplomado de Ciencia de Datos con #Bedu"
   ]
  },
  {
   "cell_type": "markdown",
   "metadata": {},
   "source": [
    "# Análisis de Dataset de Sequía en México"
   ]
  },
  {
   "cell_type": "markdown",
   "metadata": {},
   "source": [
    "# Agregamos las Librerias"
   ]
  },
  {
   "cell_type": "code",
   "execution_count": 21,
   "metadata": {},
   "outputs": [],
   "source": [
    "import pandas as pd\n",
    "import numpy as np\n",
    "import seaborn as sns\n",
    "import matplotlib.pyplot as plt"
   ]
  },
  {
   "cell_type": "markdown",
   "metadata": {},
   "source": [
    "# Paso 1.-  Cargar el DataSet: \n",
    "![DataSet Sequia en México por Municipios][def]\n",
    "\n",
    "\n",
    "[def]: \"C:\\Users\\darth\\Sequia-en-Mexico-\\venv_sequia_mexico\\Lib\\site-packages\\MunicipiosSequia.csv\""
   ]
  },
  {
   "cell_type": "code",
   "execution_count": 5,
   "metadata": {},
   "outputs": [
    {
     "name": "stderr",
     "output_type": "stream",
     "text": [
      "C:\\Users\\darth\\AppData\\Local\\Temp\\ipykernel_72032\\3399706020.py:2: DtypeWarning: Columns (100,101,139,140) have mixed types. Specify dtype option on import or set low_memory=False.\n",
      "  data = pd.read_csv(ruta)\n"
     ]
    }
   ],
   "source": [
    "ruta = \"C:/Users/darth/Sequia-en-Mexico-/venv_sequia_mexico/Lib/site-packages/MunicipiosSequia.csv\"\n",
    "data = pd.read_csv(ruta)\n"
   ]
  },
  {
   "cell_type": "markdown",
   "metadata": {},
   "source": [
    "# Ahora utilizamos la triada de "
   ]
  },
  {
   "cell_type": "code",
   "execution_count": 6,
   "metadata": {},
   "outputs": [
    {
     "name": "stdout",
     "output_type": "stream",
     "text": [
      "<class 'pandas.core.frame.DataFrame'>\n",
      "RangeIndex: 2471 entries, 0 to 2470\n",
      "Columns: 371 entries, CVE_CONCATENADA to 31-Aug-23\n",
      "dtypes: float64(2), int64(4), object(365)\n",
      "memory usage: 7.0+ MB\n"
     ]
    }
   ],
   "source": [
    "data.info()"
   ]
  },
  {
   "cell_type": "code",
   "execution_count": 7,
   "metadata": {},
   "outputs": [
    {
     "data": {
      "text/html": [
       "<div>\n",
       "<style scoped>\n",
       "    .dataframe tbody tr th:only-of-type {\n",
       "        vertical-align: middle;\n",
       "    }\n",
       "\n",
       "    .dataframe tbody tr th {\n",
       "        vertical-align: top;\n",
       "    }\n",
       "\n",
       "    .dataframe thead th {\n",
       "        text-align: right;\n",
       "    }\n",
       "</style>\n",
       "<table border=\"1\" class=\"dataframe\">\n",
       "  <thead>\n",
       "    <tr style=\"text-align: right;\">\n",
       "      <th></th>\n",
       "      <th>CVE_CONCATENADA</th>\n",
       "      <th>CVE_ENT</th>\n",
       "      <th>CVE_MUN</th>\n",
       "      <th>NOMBRE_MUN</th>\n",
       "      <th>ENTIDAD</th>\n",
       "      <th>ORG_CUENCA</th>\n",
       "      <th>CLV_OC</th>\n",
       "      <th>CON_CUENCA</th>\n",
       "      <th>CVE_CONC</th>\n",
       "      <th>31-Jan-03</th>\n",
       "      <th>...</th>\n",
       "      <th>31-Mar-23</th>\n",
       "      <th>30-Apr-23</th>\n",
       "      <th>15-May-23</th>\n",
       "      <th>31-May-23</th>\n",
       "      <th>15-Jun-23</th>\n",
       "      <th>30-Jun-23</th>\n",
       "      <th>15-Jul-23</th>\n",
       "      <th>31-Jul-23</th>\n",
       "      <th>15-Aug-23</th>\n",
       "      <th>31-Aug-23</th>\n",
       "    </tr>\n",
       "  </thead>\n",
       "  <tbody>\n",
       "    <tr>\n",
       "      <th>0</th>\n",
       "      <td>1001</td>\n",
       "      <td>1</td>\n",
       "      <td>1</td>\n",
       "      <td>Aguascalientes</td>\n",
       "      <td>Aguascalientes</td>\n",
       "      <td>Lerma Santiago Pacífico</td>\n",
       "      <td>VIII</td>\n",
       "      <td>Rio Santiago</td>\n",
       "      <td>16</td>\n",
       "      <td>NaN</td>\n",
       "      <td>...</td>\n",
       "      <td>D2</td>\n",
       "      <td>D2</td>\n",
       "      <td>D2</td>\n",
       "      <td>D2</td>\n",
       "      <td>D2</td>\n",
       "      <td>D3</td>\n",
       "      <td>D3</td>\n",
       "      <td>D3</td>\n",
       "      <td>D3</td>\n",
       "      <td>D3</td>\n",
       "    </tr>\n",
       "    <tr>\n",
       "      <th>1</th>\n",
       "      <td>1002</td>\n",
       "      <td>1</td>\n",
       "      <td>2</td>\n",
       "      <td>Asientos</td>\n",
       "      <td>Aguascalientes</td>\n",
       "      <td>Lerma Santiago Pacífico</td>\n",
       "      <td>VIII</td>\n",
       "      <td>Rio Santiago</td>\n",
       "      <td>16</td>\n",
       "      <td>NaN</td>\n",
       "      <td>...</td>\n",
       "      <td>D2</td>\n",
       "      <td>D2</td>\n",
       "      <td>D2</td>\n",
       "      <td>D2</td>\n",
       "      <td>D2</td>\n",
       "      <td>D2</td>\n",
       "      <td>D3</td>\n",
       "      <td>D3</td>\n",
       "      <td>D3</td>\n",
       "      <td>D3</td>\n",
       "    </tr>\n",
       "    <tr>\n",
       "      <th>2</th>\n",
       "      <td>1003</td>\n",
       "      <td>1</td>\n",
       "      <td>3</td>\n",
       "      <td>Calvillo</td>\n",
       "      <td>Aguascalientes</td>\n",
       "      <td>Lerma Santiago Pacífico</td>\n",
       "      <td>VIII</td>\n",
       "      <td>Rio Santiago</td>\n",
       "      <td>16</td>\n",
       "      <td>NaN</td>\n",
       "      <td>...</td>\n",
       "      <td>D1</td>\n",
       "      <td>D2</td>\n",
       "      <td>D2</td>\n",
       "      <td>D2</td>\n",
       "      <td>D2</td>\n",
       "      <td>D3</td>\n",
       "      <td>D3</td>\n",
       "      <td>D3</td>\n",
       "      <td>D3</td>\n",
       "      <td>D3</td>\n",
       "    </tr>\n",
       "    <tr>\n",
       "      <th>3</th>\n",
       "      <td>1004</td>\n",
       "      <td>1</td>\n",
       "      <td>4</td>\n",
       "      <td>Cosío</td>\n",
       "      <td>Aguascalientes</td>\n",
       "      <td>Lerma Santiago Pacífico</td>\n",
       "      <td>VIII</td>\n",
       "      <td>Rio Santiago</td>\n",
       "      <td>16</td>\n",
       "      <td>NaN</td>\n",
       "      <td>...</td>\n",
       "      <td>D2</td>\n",
       "      <td>D2</td>\n",
       "      <td>D2</td>\n",
       "      <td>D1</td>\n",
       "      <td>D2</td>\n",
       "      <td>D3</td>\n",
       "      <td>D2</td>\n",
       "      <td>D2</td>\n",
       "      <td>D2</td>\n",
       "      <td>D2</td>\n",
       "    </tr>\n",
       "    <tr>\n",
       "      <th>4</th>\n",
       "      <td>1005</td>\n",
       "      <td>1</td>\n",
       "      <td>5</td>\n",
       "      <td>Jesús María</td>\n",
       "      <td>Aguascalientes</td>\n",
       "      <td>Lerma Santiago Pacífico</td>\n",
       "      <td>VIII</td>\n",
       "      <td>Rio Santiago</td>\n",
       "      <td>16</td>\n",
       "      <td>NaN</td>\n",
       "      <td>...</td>\n",
       "      <td>D1</td>\n",
       "      <td>D2</td>\n",
       "      <td>D2</td>\n",
       "      <td>D2</td>\n",
       "      <td>D2</td>\n",
       "      <td>D3</td>\n",
       "      <td>D3</td>\n",
       "      <td>D3</td>\n",
       "      <td>D3</td>\n",
       "      <td>D3</td>\n",
       "    </tr>\n",
       "  </tbody>\n",
       "</table>\n",
       "<p>5 rows × 371 columns</p>\n",
       "</div>"
      ],
      "text/plain": [
       "   CVE_CONCATENADA  CVE_ENT  CVE_MUN      NOMBRE_MUN         ENTIDAD  \\\n",
       "0             1001        1        1  Aguascalientes  Aguascalientes   \n",
       "1             1002        1        2        Asientos  Aguascalientes   \n",
       "2             1003        1        3        Calvillo  Aguascalientes   \n",
       "3             1004        1        4           Cosío  Aguascalientes   \n",
       "4             1005        1        5     Jesús María  Aguascalientes   \n",
       "\n",
       "                ORG_CUENCA CLV_OC    CON_CUENCA  CVE_CONC 31-Jan-03  ...  \\\n",
       "0  Lerma Santiago Pacífico   VIII  Rio Santiago        16       NaN  ...   \n",
       "1  Lerma Santiago Pacífico   VIII  Rio Santiago        16       NaN  ...   \n",
       "2  Lerma Santiago Pacífico   VIII  Rio Santiago        16       NaN  ...   \n",
       "3  Lerma Santiago Pacífico   VIII  Rio Santiago        16       NaN  ...   \n",
       "4  Lerma Santiago Pacífico   VIII  Rio Santiago        16       NaN  ...   \n",
       "\n",
       "  31-Mar-23 30-Apr-23 15-May-23 31-May-23 15-Jun-23 30-Jun-23  15-Jul-23  \\\n",
       "0        D2        D2        D2        D2        D2        D3         D3   \n",
       "1        D2        D2        D2        D2        D2        D2         D3   \n",
       "2        D1        D2        D2        D2        D2        D3         D3   \n",
       "3        D2        D2        D2        D1        D2        D3         D2   \n",
       "4        D1        D2        D2        D2        D2        D3         D3   \n",
       "\n",
       "  31-Jul-23 15-Aug-23 31-Aug-23  \n",
       "0        D3        D3        D3  \n",
       "1        D3        D3        D3  \n",
       "2        D3        D3        D3  \n",
       "3        D2        D2        D2  \n",
       "4        D3        D3        D3  \n",
       "\n",
       "[5 rows x 371 columns]"
      ]
     },
     "execution_count": 7,
     "metadata": {},
     "output_type": "execute_result"
    }
   ],
   "source": [
    "data.head()"
   ]
  },
  {
   "cell_type": "code",
   "execution_count": 8,
   "metadata": {},
   "outputs": [
    {
     "data": {
      "text/html": [
       "<div>\n",
       "<style scoped>\n",
       "    .dataframe tbody tr th:only-of-type {\n",
       "        vertical-align: middle;\n",
       "    }\n",
       "\n",
       "    .dataframe tbody tr th {\n",
       "        vertical-align: top;\n",
       "    }\n",
       "\n",
       "    .dataframe thead th {\n",
       "        text-align: right;\n",
       "    }\n",
       "</style>\n",
       "<table border=\"1\" class=\"dataframe\">\n",
       "  <thead>\n",
       "    <tr style=\"text-align: right;\">\n",
       "      <th></th>\n",
       "      <th>CVE_CONCATENADA</th>\n",
       "      <th>CVE_ENT</th>\n",
       "      <th>CVE_MUN</th>\n",
       "      <th>CVE_CONC</th>\n",
       "      <th>31-Aug-03</th>\n",
       "      <th>29-Feb-04</th>\n",
       "    </tr>\n",
       "  </thead>\n",
       "  <tbody>\n",
       "    <tr>\n",
       "      <th>count</th>\n",
       "      <td>2471.000000</td>\n",
       "      <td>2471.000000</td>\n",
       "      <td>2471.000000</td>\n",
       "      <td>2471.000000</td>\n",
       "      <td>0.0</td>\n",
       "      <td>0.0</td>\n",
       "    </tr>\n",
       "    <tr>\n",
       "      <th>mean</th>\n",
       "      <td>19310.960340</td>\n",
       "      <td>19.202347</td>\n",
       "      <td>108.613112</td>\n",
       "      <td>15.492108</td>\n",
       "      <td>NaN</td>\n",
       "      <td>NaN</td>\n",
       "    </tr>\n",
       "    <tr>\n",
       "      <th>std</th>\n",
       "      <td>7394.532681</td>\n",
       "      <td>7.378841</td>\n",
       "      <td>132.284863</td>\n",
       "      <td>6.146445</td>\n",
       "      <td>NaN</td>\n",
       "      <td>NaN</td>\n",
       "    </tr>\n",
       "    <tr>\n",
       "      <th>min</th>\n",
       "      <td>1001.000000</td>\n",
       "      <td>1.000000</td>\n",
       "      <td>1.000000</td>\n",
       "      <td>1.000000</td>\n",
       "      <td>NaN</td>\n",
       "      <td>NaN</td>\n",
       "    </tr>\n",
       "    <tr>\n",
       "      <th>25%</th>\n",
       "      <td>14077.500000</td>\n",
       "      <td>14.000000</td>\n",
       "      <td>23.000000</td>\n",
       "      <td>11.000000</td>\n",
       "      <td>NaN</td>\n",
       "      <td>NaN</td>\n",
       "    </tr>\n",
       "    <tr>\n",
       "      <th>50%</th>\n",
       "      <td>20225.000000</td>\n",
       "      <td>20.000000</td>\n",
       "      <td>56.000000</td>\n",
       "      <td>15.000000</td>\n",
       "      <td>NaN</td>\n",
       "      <td>NaN</td>\n",
       "    </tr>\n",
       "    <tr>\n",
       "      <th>75%</th>\n",
       "      <td>24026.500000</td>\n",
       "      <td>24.000000</td>\n",
       "      <td>127.500000</td>\n",
       "      <td>21.000000</td>\n",
       "      <td>NaN</td>\n",
       "      <td>NaN</td>\n",
       "    </tr>\n",
       "    <tr>\n",
       "      <th>max</th>\n",
       "      <td>32058.000000</td>\n",
       "      <td>32.000000</td>\n",
       "      <td>570.000000</td>\n",
       "      <td>26.000000</td>\n",
       "      <td>NaN</td>\n",
       "      <td>NaN</td>\n",
       "    </tr>\n",
       "  </tbody>\n",
       "</table>\n",
       "</div>"
      ],
      "text/plain": [
       "       CVE_CONCATENADA      CVE_ENT      CVE_MUN     CVE_CONC  31-Aug-03  \\\n",
       "count      2471.000000  2471.000000  2471.000000  2471.000000        0.0   \n",
       "mean      19310.960340    19.202347   108.613112    15.492108        NaN   \n",
       "std        7394.532681     7.378841   132.284863     6.146445        NaN   \n",
       "min        1001.000000     1.000000     1.000000     1.000000        NaN   \n",
       "25%       14077.500000    14.000000    23.000000    11.000000        NaN   \n",
       "50%       20225.000000    20.000000    56.000000    15.000000        NaN   \n",
       "75%       24026.500000    24.000000   127.500000    21.000000        NaN   \n",
       "max       32058.000000    32.000000   570.000000    26.000000        NaN   \n",
       "\n",
       "       29-Feb-04  \n",
       "count        0.0  \n",
       "mean         NaN  \n",
       "std          NaN  \n",
       "min          NaN  \n",
       "25%          NaN  \n",
       "50%          NaN  \n",
       "75%          NaN  \n",
       "max          NaN  "
      ]
     },
     "execution_count": 8,
     "metadata": {},
     "output_type": "execute_result"
    }
   ],
   "source": [
    "data.describe()"
   ]
  },
  {
   "cell_type": "markdown",
   "metadata": {},
   "source": [
    "# Limpieza de datos"
   ]
  },
  {
   "cell_type": "markdown",
   "metadata": {},
   "source": [
    "## Indentificamos los valores Faltantes:"
   ]
  },
  {
   "cell_type": "code",
   "execution_count": 9,
   "metadata": {},
   "outputs": [
    {
     "data": {
      "text/plain": [
       "CVE_CONCATENADA      0\n",
       "CVE_ENT              0\n",
       "CVE_MUN              0\n",
       "NOMBRE_MUN           0\n",
       "ENTIDAD              0\n",
       "                  ... \n",
       "30-Jun-23          518\n",
       "15-Jul-23          434\n",
       "31-Jul-23          194\n",
       "15-Aug-23          321\n",
       "31-Aug-23          327\n",
       "Length: 371, dtype: int64"
      ]
     },
     "execution_count": 9,
     "metadata": {},
     "output_type": "execute_result"
    }
   ],
   "source": [
    "data.isnull().sum()\n"
   ]
  },
  {
   "cell_type": "markdown",
   "metadata": {},
   "source": [
    "### Eliminar columnas con todos los valores NaN"
   ]
  },
  {
   "cell_type": "code",
   "execution_count": 11,
   "metadata": {},
   "outputs": [],
   "source": [
    "data_cleaned = data.dropna(axis=1, how='all')\n"
   ]
  },
  {
   "cell_type": "markdown",
   "metadata": {},
   "source": [
    "### Verificar cuántas columnas se han eliminado"
   ]
  },
  {
   "cell_type": "code",
   "execution_count": 13,
   "metadata": {},
   "outputs": [],
   "source": [
    "columns_removed = data.shape[1] - data_cleaned.shape[1]"
   ]
  },
  {
   "cell_type": "markdown",
   "metadata": {},
   "source": [
    "### Mostrar las primeras filas del dataset limpiado y el número de columnas eliminadas"
   ]
  },
  {
   "cell_type": "code",
   "execution_count": 14,
   "metadata": {},
   "outputs": [
    {
     "data": {
      "text/plain": [
       "(   CVE_CONCATENADA  CVE_ENT  CVE_MUN      NOMBRE_MUN         ENTIDAD  \\\n",
       " 0             1001        1        1  Aguascalientes  Aguascalientes   \n",
       " 1             1002        1        2        Asientos  Aguascalientes   \n",
       " 2             1003        1        3        Calvillo  Aguascalientes   \n",
       " 3             1004        1        4           Cosío  Aguascalientes   \n",
       " 4             1005        1        5     Jesús María  Aguascalientes   \n",
       " \n",
       "                 ORG_CUENCA CLV_OC    CON_CUENCA  CVE_CONC 31-Jan-03  ...  \\\n",
       " 0  Lerma Santiago Pacífico   VIII  Rio Santiago        16       NaN  ...   \n",
       " 1  Lerma Santiago Pacífico   VIII  Rio Santiago        16       NaN  ...   \n",
       " 2  Lerma Santiago Pacífico   VIII  Rio Santiago        16       NaN  ...   \n",
       " 3  Lerma Santiago Pacífico   VIII  Rio Santiago        16       NaN  ...   \n",
       " 4  Lerma Santiago Pacífico   VIII  Rio Santiago        16       NaN  ...   \n",
       " \n",
       "   31-Mar-23 30-Apr-23 15-May-23 31-May-23 15-Jun-23 30-Jun-23 15-Jul-23  \\\n",
       " 0        D2        D2        D2        D2        D2        D3        D3   \n",
       " 1        D2        D2        D2        D2        D2        D2        D3   \n",
       " 2        D1        D2        D2        D2        D2        D3        D3   \n",
       " 3        D2        D2        D2        D1        D2        D3        D2   \n",
       " 4        D1        D2        D2        D2        D2        D3        D3   \n",
       " \n",
       "   31-Jul-23 15-Aug-23 31-Aug-23  \n",
       " 0        D3        D3        D3  \n",
       " 1        D3        D3        D3  \n",
       " 2        D3        D3        D3  \n",
       " 3        D2        D2        D2  \n",
       " 4        D3        D3        D3  \n",
       " \n",
       " [5 rows x 369 columns],\n",
       " 2)"
      ]
     },
     "execution_count": 14,
     "metadata": {},
     "output_type": "execute_result"
    }
   ],
   "source": [
    "data_cleaned.head(), columns_removed"
   ]
  },
  {
   "cell_type": "markdown",
   "metadata": {},
   "source": [
    "## Identificar columnas que deberían ser numéricas pero se detectaron como object debido a caracteres no numéricos."
   ]
  },
  {
   "cell_type": "code",
   "execution_count": 25,
   "metadata": {},
   "outputs": [],
   "source": [
    "object_columns = data_cleaned.select_dtypes(include=['object']).columns"
   ]
  },
  {
   "cell_type": "markdown",
   "metadata": {},
   "source": [
    "### Crear un diccionario para almacenar valores únicos no numéricos en cada columna"
   ]
  },
  {
   "cell_type": "code",
   "execution_count": 16,
   "metadata": {},
   "outputs": [],
   "source": [
    "non_numeric_values = {}"
   ]
  },
  {
   "cell_type": "markdown",
   "metadata": {},
   "source": [
    "### Iterar sobre las columnas de tipo object para identificar valores no numéricos"
   ]
  },
  {
   "cell_type": "code",
   "execution_count": 18,
   "metadata": {},
   "outputs": [
    {
     "data": {
      "text/plain": [
       "{'NOMBRE_MUN': 'Aguascalientes',\n",
       " 'ENTIDAD': 'Aguascalientes',\n",
       " 'ORG_CUENCA': 'Lerma Santiago Pacífico',\n",
       " 'CLV_OC': 'VIII',\n",
       " 'CON_CUENCA': 'Rio Santiago',\n",
       " '31-Jan-03': 'D2',\n",
       " '28-Feb-03': 'D2',\n",
       " '31-Mar-03': 'D1',\n",
       " '30-Apr-03': 'D1',\n",
       " '31-May-03': 'D1',\n",
       " '30-Jun-03': 'D1',\n",
       " '31-Jul-03': 'D1',\n",
       " '30-Sep-03': 'D0',\n",
       " '31-Oct-03': 'D0',\n",
       " '30-Nov-03': 'D0',\n",
       " '31-Dec-03': 'D0',\n",
       " '31-Jan-04': 'D0',\n",
       " '31-Mar-04': 'D0',\n",
       " '30-Apr-04': 'D0',\n",
       " '31-May-04': 'D0',\n",
       " '30-Jun-04': 'D0',\n",
       " '31-Jul-04': 'D0',\n",
       " '31-Aug-04': 'D0',\n",
       " '30-Sep-04': 'D0',\n",
       " '31-Oct-04': 'D0',\n",
       " '30-Nov-04': 'D0',\n",
       " '31-Dec-04': 'D0',\n",
       " '31-Jan-05': 'D0',\n",
       " '28-Feb-05': 'D1',\n",
       " '31-Mar-05': 'D0',\n",
       " '30-Apr-05': 'D0',\n",
       " '31-May-05': 'D0',\n",
       " '30-Jun-05': 'D0',\n",
       " '31-Jul-05': 'D0',\n",
       " '31-Aug-05': 'D0',\n",
       " '30-Sep-05': 'D0',\n",
       " '31-Oct-05': 'D0',\n",
       " '30-Nov-05': 'D0',\n",
       " '31-Dec-05': 'D0',\n",
       " '31-Jan-06': 'D0',\n",
       " '28-Feb-06': 'D1',\n",
       " '31-Mar-06': 'D2',\n",
       " '30-Apr-06': 'D2',\n",
       " '31-May-06': 'D1',\n",
       " '30-Jun-06': 'D2',\n",
       " '31-Jul-06': 'D0',\n",
       " '31-Aug-06': 'D0',\n",
       " '30-Sep-06': 'D0',\n",
       " '31-Oct-06': 'D1',\n",
       " '30-Nov-06': 'D1',\n",
       " '31-Dec-06': 'D1',\n",
       " '31-Jan-07': 'D2',\n",
       " '28-Feb-07': 'D2',\n",
       " '31-Mar-07': 'D1',\n",
       " '30-Apr-07': 'D1',\n",
       " '31-May-07': 'D0',\n",
       " '30-Jun-07': 'D1',\n",
       " '31-Jul-07': 'D3',\n",
       " '31-Aug-07': 'D3',\n",
       " '30-Sep-07': 'D0',\n",
       " '31-Oct-07': 'D0',\n",
       " '30-Nov-07': 'D2',\n",
       " '31-Dec-07': 'D2',\n",
       " '31-Jan-08': 'D1',\n",
       " '29-Feb-08': 'D0',\n",
       " '31-Mar-08': 'D1',\n",
       " '30-Apr-08': 'D1',\n",
       " '31-May-08': 'D1',\n",
       " '30-Jun-08': 'D1',\n",
       " '31-Jul-08': 'D1',\n",
       " '31-Aug-08': 'D1',\n",
       " '30-Sep-08': 'D1',\n",
       " '31-Oct-08': 'D1',\n",
       " '30-Nov-08': 'D2',\n",
       " '31-Dec-08': 'D1',\n",
       " '31-Jan-09': 'D1',\n",
       " '28-Feb-09': 'D1',\n",
       " '31-Mar-09': 'D1',\n",
       " '30-Apr-09': 'D1',\n",
       " '31-May-09': 'D1',\n",
       " '30-Jun-09': 'D1',\n",
       " '31-Jul-09': 'D0',\n",
       " '31-Aug-09': 'D1',\n",
       " '30-Sep-09': 'D1',\n",
       " '31-Oct-09': 'D1',\n",
       " '30-Nov-09': 'D1',\n",
       " '31-Dec-09': 'D1',\n",
       " '31-Jan-10': 'D0',\n",
       " '28-Feb-10': 'D0',\n",
       " '31-Mar-10': 'D0',\n",
       " '30-Apr-10': 'D0',\n",
       " '31-May-10': 'D3',\n",
       " '30-Jun-10': 'D2',\n",
       " '31-Jul-10': 'D0',\n",
       " '31-Aug-10': 'D0',\n",
       " '30-Sep-10': 'D0',\n",
       " '31-Oct-10': 'D0',\n",
       " '30-Nov-10': 'D0',\n",
       " '31-Dec-10': 'D0',\n",
       " '31-Jan-11': 'D1',\n",
       " '28-Feb-11': 'D0',\n",
       " '31-Mar-11': 'D0',\n",
       " '30-Apr-11': 'D2',\n",
       " '31-May-11': 'D2',\n",
       " '30-Jun-11': 'D2',\n",
       " '31-Jul-11': 'D3',\n",
       " '31-Aug-11': 'D2',\n",
       " '30-Sep-11': 'D3',\n",
       " '31-Oct-11': 'D3',\n",
       " '30-Nov-11': 'D4',\n",
       " '31-Dec-11': 'D3',\n",
       " '31-Jan-12': 'D3',\n",
       " '29-Feb-12': 'D1',\n",
       " '31-Mar-12': 'D1',\n",
       " '30-Apr-12': 'D1',\n",
       " '31-May-12': 'D0',\n",
       " '30-Jun-12': 'D0',\n",
       " '31-Jul-12': 'D0',\n",
       " '31-Aug-12': 'D1',\n",
       " '30-Sep-12': 'D1',\n",
       " '31-Oct-12': 'D0',\n",
       " '30-Nov-12': 'D0',\n",
       " '31-Dec-12': 'D0',\n",
       " '31-Jan-13': 'D0',\n",
       " '28-Feb-13': 'D0',\n",
       " '31-Mar-13': 'D0',\n",
       " '30-Apr-13': 'D0',\n",
       " '31-May-13': 'D0',\n",
       " '30-Jun-13': 'D0',\n",
       " '31-Jul-13': 'D1',\n",
       " '31-Aug-13': 'D1',\n",
       " '30-Sep-13': 'D1',\n",
       " '31-Oct-13': 'D1',\n",
       " '30-Nov-13': 'D1',\n",
       " '31-Dec-13': 'D1',\n",
       " '31-Jan-14': 'D0',\n",
       " '15-Feb-14': 'D0',\n",
       " '28-Feb-14': 'D0',\n",
       " '15-Mar-14': 'D0',\n",
       " '31-Mar-14': 'D0',\n",
       " '15-Apr-14': 'D0',\n",
       " '30-Apr-14': 'D0',\n",
       " '15-May-14': 'D0',\n",
       " '31-May-14': 'D0',\n",
       " '15-Jun-14': 'D0',\n",
       " '30-Jun-14': 'D0',\n",
       " '15-Jul-14': 'D0',\n",
       " '31-Jul-14': 'D0',\n",
       " '15-Aug-14': 'D0',\n",
       " '31-Aug-14': 'D0',\n",
       " '15-Sep-14': 'D1',\n",
       " '30-Sep-14': 'D1',\n",
       " '15-Oct-14': 'D1',\n",
       " '31-Oct-14': 'D1',\n",
       " '15-Nov-14': 'D1',\n",
       " '30-Nov-14': 'D1',\n",
       " '15-Dec-14': 'D1',\n",
       " '31-Dec-14': 'D1',\n",
       " '15-Jan-15': 'D1',\n",
       " '31-Jan-15': 'D1',\n",
       " '15-Feb-15': 'D0',\n",
       " '28-Feb-15': 'D0',\n",
       " '15-Mar-15': 'D0',\n",
       " '31-Mar-15': 'D3',\n",
       " '15-Apr-15': 'D3',\n",
       " '30-Apr-15': 'D2',\n",
       " '15-May-15': 'D2',\n",
       " '31-May-15': 'D2',\n",
       " '15-Jun-15': 'D2',\n",
       " '30-Jun-15': 'D2',\n",
       " '15-Jul-15': 'D2',\n",
       " '31-Jul-15': 'D2',\n",
       " '15-Aug-15': 'D2',\n",
       " '31-Aug-15': 'D1',\n",
       " '15-Sep-15': 'D1',\n",
       " '30-Sep-15': 'D3',\n",
       " '15-Oct-15': 'D3',\n",
       " '31-Oct-15': 'D2',\n",
       " '15-Nov-15': 'D2',\n",
       " '30-Nov-15': 'D2',\n",
       " '15-Dec-15': 'D2',\n",
       " '31-Dec-15': 'D0',\n",
       " '15-Jan-16': 'D3',\n",
       " '31-Jan-16': 'D3',\n",
       " '15-Feb-16': 'D3',\n",
       " '29-Feb-16': 'D3',\n",
       " '15-Mar-16': 'D3',\n",
       " '31-Mar-16': 'D3',\n",
       " '15-Apr-16': 'D3',\n",
       " '30-Apr-16': 'D3',\n",
       " '15-May-16': 'D0',\n",
       " '31-May-16': 'D0',\n",
       " '15-Jun-16': 'D0',\n",
       " '30-Jun-16': 'D0',\n",
       " '15-Jul-16': 'D0',\n",
       " '31-Jul-16': 'D0',\n",
       " '15-Aug-16': 'D0',\n",
       " '31-Aug-16': 'D3',\n",
       " '15-Sep-16': 'D3',\n",
       " '30-Sep-16': 'D3',\n",
       " '15-Oct-16': 'D3',\n",
       " '31-Oct-16': 'D3',\n",
       " '15-Nov-16': 'D3',\n",
       " '30-Nov-16': 'D3',\n",
       " '15-Dec-16': 'D3',\n",
       " '31-Dec-16': 'D2',\n",
       " '15-Jan-17': 'D2',\n",
       " '31-Jan-17': 'D1',\n",
       " '15-Feb-17': 'D0',\n",
       " '28-Feb-17': 'D0',\n",
       " '15-Mar-17': 'D0',\n",
       " '31-Mar-17': 'D0',\n",
       " '15-Apr-17': 'D0',\n",
       " '30-Apr-17': 'D0',\n",
       " '15-May-17': 'D0',\n",
       " '31-May-17': 'D1',\n",
       " '15-Jun-17': 'D1',\n",
       " '30-Jun-17': 'D1',\n",
       " '15-Jul-17': 'D1',\n",
       " '31-Jul-17': 'D1',\n",
       " '15-Aug-17': 'D0',\n",
       " '31-Aug-17': 'D0',\n",
       " '15-Sep-17': 'D1',\n",
       " '30-Sep-17': 'D0',\n",
       " '15-Oct-17': 'D0',\n",
       " '31-Oct-17': 'D0',\n",
       " '15-Nov-17': 'D0',\n",
       " '30-Nov-17': 'D1',\n",
       " '15-Dec-17': 'D1',\n",
       " '31-Dec-17': 'D1',\n",
       " '15-Jan-18': 'D1',\n",
       " '31-Jan-18': 'D1',\n",
       " '15-Feb-18': 'D1',\n",
       " '28-Feb-18': 'D1',\n",
       " '15-Mar-18': 'D1',\n",
       " '31-Mar-18': 'D2',\n",
       " '15-Apr-18': 'D2',\n",
       " '30-Apr-18': 'D2',\n",
       " '15-May-18': 'D2',\n",
       " '31-May-18': 'D2',\n",
       " '15-Jun-18': 'D2',\n",
       " '30-Jun-18': 'D2',\n",
       " '15-Jul-18': 'D2',\n",
       " '31-Jul-18': 'D2',\n",
       " '15-Aug-18': 'D2',\n",
       " '31-Aug-18': 'D2',\n",
       " '15-Sep-18': 'D2',\n",
       " '30-Sep-18': 'D2',\n",
       " '15-Oct-18': 'D2',\n",
       " '31-Oct-18': 'D2',\n",
       " '15-Nov-18': 'D2',\n",
       " '30-Nov-18': 'D1',\n",
       " '15-Dec-18': 'D1',\n",
       " '31-Dec-18': 'D0',\n",
       " '15-Jan-19': 'D0',\n",
       " '31-Jan-19': 'D0',\n",
       " '15-Feb-19': 'D0',\n",
       " '28-Feb-19': 'D0',\n",
       " '15-Mar-19': 'D0',\n",
       " '31-Mar-19': 'D0',\n",
       " '15-Apr-19': 'D0',\n",
       " '30-Apr-19': 'D0',\n",
       " '15-May-19': 'D0',\n",
       " '31-May-19': 'D0',\n",
       " '15-Jun-19': 'D0',\n",
       " '30-Jun-19': 'D0',\n",
       " '15-Jul-19': 'D1',\n",
       " '31-Jul-19': 'D0',\n",
       " '15-Aug-19': 'D1',\n",
       " '31-Aug-19': 'D0',\n",
       " '15-Sep-19': 'D0',\n",
       " '30-Sep-19': 'D0',\n",
       " '15-Oct-19': 'D0',\n",
       " '31-Oct-19': 'D0',\n",
       " '15-Nov-19': 'D0',\n",
       " '30-Nov-19': 'D0',\n",
       " '15-Dec-19': 'D2',\n",
       " '31-Dec-19': 'D1',\n",
       " '15-Jan-20': 'D1',\n",
       " '31-Jan-20': 'D1',\n",
       " '15-Feb-20': 'D0',\n",
       " '29-Feb-20': 'D0',\n",
       " '15-Mar-20': 'D0',\n",
       " '31-Mar-20': 'D0',\n",
       " '15-Apr-20': 'D0',\n",
       " '30-Apr-20': 'D0',\n",
       " '15-May-20': 'D0',\n",
       " '31-May-20': 'D0',\n",
       " '15-Jun-20': 'D0',\n",
       " '30-Jun-20': 'D0',\n",
       " '15-Jul-20': 'D0',\n",
       " '31-Jul-20': 'D0',\n",
       " '15-Aug-20': 'D0',\n",
       " '31-Aug-20': 'D0',\n",
       " '15-Sep-20': 'D0',\n",
       " '30-Sep-20': 'D0',\n",
       " '15-Oct-20': 'D0',\n",
       " '31-Oct-20': 'D0',\n",
       " '15-Nov-20': 'D0',\n",
       " '30-Nov-20': 'D1',\n",
       " '15-Dec-20': 'D1',\n",
       " '31-Dec-20': 'D1',\n",
       " '15-Jan-21': 'D1',\n",
       " '31-Jan-21': 'D1',\n",
       " '15-Feb-21': 'D1',\n",
       " '28-Feb-21': 'D1',\n",
       " '15-Mar-21': 'D1',\n",
       " '31-Mar-21': 'D1',\n",
       " '15-Apr-21': 'D1',\n",
       " '30-Apr-21': 'D2',\n",
       " '15-May-21': 'D2',\n",
       " '31-May-21': 'D2',\n",
       " '15-Jun-21': 'D1',\n",
       " '30-Jun-21': 'D0',\n",
       " '15-Jul-21': 'D0',\n",
       " '31-Jul-21': 'D2',\n",
       " '15-Aug-21': 'D2',\n",
       " '31-Aug-21': 'D2',\n",
       " '15-Sep-21': 'D2',\n",
       " '30-Sep-21': 'D2',\n",
       " '15-Oct-21': 'D2',\n",
       " '31-Oct-21': 'D2',\n",
       " '15-Nov-21': 'D2',\n",
       " '30-Nov-21': 'D2',\n",
       " '15-Dec-21': 'D2',\n",
       " '31-Dec-21': 'D2',\n",
       " '15-Jan-22': 'D2',\n",
       " '31-Jan-22': 'D0',\n",
       " '15-Feb-22': 'D0',\n",
       " '28-Feb-22': 'D0',\n",
       " '15-Mar-22': 'D1',\n",
       " '31-Mar-22': 'D1',\n",
       " '15-Apr-22': 'D2',\n",
       " '30-Apr-22': 'D1',\n",
       " '15-May-22': 'D1',\n",
       " '31-May-22': 'D1',\n",
       " '15-Jun-22': 'D0',\n",
       " '30-Jun-22': 'D1',\n",
       " '15-Jul-22': 'D1',\n",
       " '31-Jul-22': 'D1',\n",
       " '15-Aug-22': 'D0',\n",
       " '31-Aug-22': 'D0',\n",
       " '15-Sep-22': 'D0',\n",
       " '30-Sep-22': 'D0',\n",
       " '15-Oct-22': 'D1',\n",
       " '31-Oct-22': 'D1',\n",
       " '15-Nov-22': 'D1',\n",
       " '30-Nov-22': 'D0',\n",
       " '15-Dec-22': 'D0',\n",
       " '31-Dec-22': 'D0',\n",
       " '15-Jan-23': 'D0',\n",
       " '31-Jan-23': 'D1',\n",
       " '15-Feb-23': 'D1',\n",
       " '28-Feb-23': 'D1',\n",
       " '15-Mar-23': 'D1',\n",
       " '31-Mar-23': 'D2',\n",
       " '30-Apr-23': 'D2',\n",
       " '15-May-23': 'D2',\n",
       " '31-May-23': 'D2',\n",
       " '15-Jun-23': 'D2',\n",
       " '30-Jun-23': 'D3',\n",
       " '15-Jul-23': 'D3',\n",
       " '31-Jul-23': 'D3',\n",
       " '15-Aug-23': 'D3',\n",
       " '31-Aug-23': 'D3'}"
      ]
     },
     "execution_count": 18,
     "metadata": {},
     "output_type": "execute_result"
    }
   ],
   "source": [
    "for col in object_columns:\n",
    "    # Intentar convertir la columna a float, si falla, almacenar el valor no numérico\n",
    "    try:\n",
    "        data_cleaned[col].astype(float)\n",
    "    except ValueError as e:\n",
    "        non_numeric_value = str(e).split(\":\")[-1].strip().replace(\"'\", \"\")\n",
    "        non_numeric_values[col] = non_numeric_value\n",
    "\n",
    "non_numeric_values"
   ]
  },
  {
   "cell_type": "code",
   "execution_count": 19,
   "metadata": {},
   "outputs": [
    {
     "data": {
      "text/plain": [
       "{'NOMBRE_MUN': 'Aguascalientes',\n",
       " 'ENTIDAD': 'Aguascalientes',\n",
       " 'ORG_CUENCA': 'Lerma Santiago Pacífico',\n",
       " 'CLV_OC': 'VIII',\n",
       " 'CON_CUENCA': 'Rio Santiago',\n",
       " '31-Jan-03': 'D2',\n",
       " '28-Feb-03': 'D2',\n",
       " '31-Mar-03': 'D1',\n",
       " '30-Apr-03': 'D1',\n",
       " '31-May-03': 'D1'}"
      ]
     },
     "execution_count": 19,
     "metadata": {},
     "output_type": "execute_result"
    }
   ],
   "source": [
    "dict(list(non_numeric_values.items())[:10])  # muestra solo los primeros 10 elementos\n"
   ]
  },
  {
   "cell_type": "markdown",
   "metadata": {},
   "source": [
    "## Creando un DataFrame a partir del diccionario non_numeric_values"
   ]
  },
  {
   "cell_type": "code",
   "execution_count": 23,
   "metadata": {},
   "outputs": [
    {
     "data": {
      "text/html": [
       "<div>\n",
       "<style scoped>\n",
       "    .dataframe tbody tr th:only-of-type {\n",
       "        vertical-align: middle;\n",
       "    }\n",
       "\n",
       "    .dataframe tbody tr th {\n",
       "        vertical-align: top;\n",
       "    }\n",
       "\n",
       "    .dataframe thead th {\n",
       "        text-align: right;\n",
       "    }\n",
       "</style>\n",
       "<table border=\"1\" class=\"dataframe\">\n",
       "  <thead>\n",
       "    <tr style=\"text-align: right;\">\n",
       "      <th></th>\n",
       "      <th>Column</th>\n",
       "      <th>Non-Numeric Value</th>\n",
       "    </tr>\n",
       "  </thead>\n",
       "  <tbody>\n",
       "    <tr>\n",
       "      <th>0</th>\n",
       "      <td>NOMBRE_MUN</td>\n",
       "      <td>Aguascalientes</td>\n",
       "    </tr>\n",
       "    <tr>\n",
       "      <th>1</th>\n",
       "      <td>ENTIDAD</td>\n",
       "      <td>Aguascalientes</td>\n",
       "    </tr>\n",
       "    <tr>\n",
       "      <th>2</th>\n",
       "      <td>ORG_CUENCA</td>\n",
       "      <td>Lerma Santiago Pacífico</td>\n",
       "    </tr>\n",
       "    <tr>\n",
       "      <th>3</th>\n",
       "      <td>CLV_OC</td>\n",
       "      <td>VIII</td>\n",
       "    </tr>\n",
       "    <tr>\n",
       "      <th>4</th>\n",
       "      <td>CON_CUENCA</td>\n",
       "      <td>Rio Santiago</td>\n",
       "    </tr>\n",
       "    <tr>\n",
       "      <th>...</th>\n",
       "      <td>...</td>\n",
       "      <td>...</td>\n",
       "    </tr>\n",
       "    <tr>\n",
       "      <th>360</th>\n",
       "      <td>30-Jun-23</td>\n",
       "      <td>D3</td>\n",
       "    </tr>\n",
       "    <tr>\n",
       "      <th>361</th>\n",
       "      <td>15-Jul-23</td>\n",
       "      <td>D3</td>\n",
       "    </tr>\n",
       "    <tr>\n",
       "      <th>362</th>\n",
       "      <td>31-Jul-23</td>\n",
       "      <td>D3</td>\n",
       "    </tr>\n",
       "    <tr>\n",
       "      <th>363</th>\n",
       "      <td>15-Aug-23</td>\n",
       "      <td>D3</td>\n",
       "    </tr>\n",
       "    <tr>\n",
       "      <th>364</th>\n",
       "      <td>31-Aug-23</td>\n",
       "      <td>D3</td>\n",
       "    </tr>\n",
       "  </tbody>\n",
       "</table>\n",
       "<p>365 rows × 2 columns</p>\n",
       "</div>"
      ],
      "text/plain": [
       "         Column        Non-Numeric Value\n",
       "0    NOMBRE_MUN           Aguascalientes\n",
       "1       ENTIDAD           Aguascalientes\n",
       "2    ORG_CUENCA  Lerma Santiago Pacífico\n",
       "3        CLV_OC                     VIII\n",
       "4    CON_CUENCA             Rio Santiago\n",
       "..          ...                      ...\n",
       "360   30-Jun-23                       D3\n",
       "361   15-Jul-23                       D3\n",
       "362   31-Jul-23                       D3\n",
       "363   15-Aug-23                       D3\n",
       "364   31-Aug-23                       D3\n",
       "\n",
       "[365 rows x 2 columns]"
      ]
     },
     "execution_count": 23,
     "metadata": {},
     "output_type": "execute_result"
    }
   ],
   "source": [
    "non_numeric_df = pd.DataFrame(list(non_numeric_values.items()), columns=['Column', 'Non-Numeric Value'])\n",
    "\n",
    "non_numeric_df"
   ]
  },
  {
   "cell_type": "markdown",
   "metadata": {},
   "source": [
    "## Identificando las columnas de tipo object"
   ]
  },
  {
   "cell_type": "code",
   "execution_count": 27,
   "metadata": {},
   "outputs": [],
   "source": [
    "object_columns = data_cleaned.select_dtypes(include=['object']).columns"
   ]
  },
  {
   "cell_type": "markdown",
   "metadata": {},
   "source": [
    "### Reiniciando el diccionario"
   ]
  },
  {
   "cell_type": "code",
   "execution_count": 28,
   "metadata": {},
   "outputs": [],
   "source": [
    "non_numeric_values = {}"
   ]
  },
  {
   "cell_type": "code",
   "execution_count": 29,
   "metadata": {},
   "outputs": [],
   "source": [
    "# Iterando sobre las columnas identificadas como 'object'\n",
    "for column in object_columns:\n",
    "    # Obteniendo valores únicos no numéricos para la columna\n",
    "    non_numeric = data_cleaned[column][~data_cleaned[column].astype(str).str.isnumeric()].unique()\n",
    "    if len(non_numeric) > 0:\n",
    "        non_numeric_values[column] = list(non_numeric)"
   ]
  },
  {
   "cell_type": "markdown",
   "metadata": {},
   "source": [
    "### Creando un DataFrame a partir del diccionario non_numeric_values"
   ]
  },
  {
   "cell_type": "code",
   "execution_count": 31,
   "metadata": {},
   "outputs": [
    {
     "data": {
      "text/html": [
       "<div>\n",
       "<style scoped>\n",
       "    .dataframe tbody tr th:only-of-type {\n",
       "        vertical-align: middle;\n",
       "    }\n",
       "\n",
       "    .dataframe tbody tr th {\n",
       "        vertical-align: top;\n",
       "    }\n",
       "\n",
       "    .dataframe thead th {\n",
       "        text-align: right;\n",
       "    }\n",
       "</style>\n",
       "<table border=\"1\" class=\"dataframe\">\n",
       "  <thead>\n",
       "    <tr style=\"text-align: right;\">\n",
       "      <th></th>\n",
       "      <th>Column</th>\n",
       "      <th>Non-Numeric Value</th>\n",
       "    </tr>\n",
       "  </thead>\n",
       "  <tbody>\n",
       "    <tr>\n",
       "      <th>0</th>\n",
       "      <td>NOMBRE_MUN</td>\n",
       "      <td>Aguascalientes</td>\n",
       "    </tr>\n",
       "    <tr>\n",
       "      <th>1</th>\n",
       "      <td>NOMBRE_MUN</td>\n",
       "      <td>Asientos</td>\n",
       "    </tr>\n",
       "    <tr>\n",
       "      <th>2</th>\n",
       "      <td>NOMBRE_MUN</td>\n",
       "      <td>Calvillo</td>\n",
       "    </tr>\n",
       "    <tr>\n",
       "      <th>3</th>\n",
       "      <td>NOMBRE_MUN</td>\n",
       "      <td>Cosío</td>\n",
       "    </tr>\n",
       "    <tr>\n",
       "      <th>4</th>\n",
       "      <td>NOMBRE_MUN</td>\n",
       "      <td>Jesús María</td>\n",
       "    </tr>\n",
       "    <tr>\n",
       "      <th>...</th>\n",
       "      <td>...</td>\n",
       "      <td>...</td>\n",
       "    </tr>\n",
       "    <tr>\n",
       "      <th>4222</th>\n",
       "      <td>31-Aug-23</td>\n",
       "      <td>D3</td>\n",
       "    </tr>\n",
       "    <tr>\n",
       "      <th>4223</th>\n",
       "      <td>31-Aug-23</td>\n",
       "      <td>D2</td>\n",
       "    </tr>\n",
       "    <tr>\n",
       "      <th>4224</th>\n",
       "      <td>31-Aug-23</td>\n",
       "      <td>NaN</td>\n",
       "    </tr>\n",
       "    <tr>\n",
       "      <th>4225</th>\n",
       "      <td>31-Aug-23</td>\n",
       "      <td>D0</td>\n",
       "    </tr>\n",
       "    <tr>\n",
       "      <th>4226</th>\n",
       "      <td>31-Aug-23</td>\n",
       "      <td>D1</td>\n",
       "    </tr>\n",
       "  </tbody>\n",
       "</table>\n",
       "<p>4227 rows × 2 columns</p>\n",
       "</div>"
      ],
      "text/plain": [
       "          Column Non-Numeric Value\n",
       "0     NOMBRE_MUN    Aguascalientes\n",
       "1     NOMBRE_MUN          Asientos\n",
       "2     NOMBRE_MUN          Calvillo\n",
       "3     NOMBRE_MUN             Cosío\n",
       "4     NOMBRE_MUN       Jesús María\n",
       "...          ...               ...\n",
       "4222   31-Aug-23                D3\n",
       "4223   31-Aug-23                D2\n",
       "4224   31-Aug-23               NaN\n",
       "4225   31-Aug-23                D0\n",
       "4226   31-Aug-23                D1\n",
       "\n",
       "[4227 rows x 2 columns]"
      ]
     },
     "execution_count": 31,
     "metadata": {},
     "output_type": "execute_result"
    }
   ],
   "source": [
    "non_numeric_df_adjusted = pd.DataFrame([(key, val) for key, values in non_numeric_values.items() for val in values], \n",
    "                                       columns=['Column', 'Non-Numeric Value'])\n",
    "\n",
    "non_numeric_df_adjusted"
   ]
  },
  {
   "cell_type": "markdown",
   "metadata": {},
   "source": [
    "## Manejo de Valores Atipicos\n",
    "\n",
    "####  Comenzaremos con un análisis general para identificar valores atípicos en el dataset. Dado que el dataset contiene principalmente datos categóricos (los niveles de sequía), nos centraremos en las columnas numéricas, si las hay:"
   ]
  },
  {
   "cell_type": "code",
   "execution_count": 20,
   "metadata": {},
   "outputs": [
    {
     "data": {
      "text/plain": [
       "Index(['CVE_CONCATENADA', 'CVE_ENT', 'CVE_MUN', 'CVE_CONC'], dtype='object')"
      ]
     },
     "execution_count": 20,
     "metadata": {},
     "output_type": "execute_result"
    }
   ],
   "source": [
    "numeric_columns = data_cleaned.select_dtypes(include=['float64', 'int64']).columns\n",
    "\n",
    "numeric_columns"
   ]
  },
  {
   "cell_type": "markdown",
   "metadata": {},
   "source": [
    "### De estas columnas, las primeras cuatro parecen ser códigos y no serían adecuadas para la identificación de valores atípicos en el sentido tradicional"
   ]
  },
  {
   "cell_type": "markdown",
   "metadata": {},
   "source": [
    "## Concatenando todos los valores de sequía en el dataset"
   ]
  },
  {
   "cell_type": "code",
   "execution_count": 32,
   "metadata": {},
   "outputs": [],
   "source": [
    "drought_data = data_cleaned[data_cleaned.columns[10:]].stack().reset_index()\n",
    "drought_data.columns = ['Index', 'Date', 'Drought Level']"
   ]
  },
  {
   "cell_type": "markdown",
   "metadata": {},
   "source": [
    "## Filtrando registros que corresponden a los niveles D3 y D4"
   ]
  },
  {
   "cell_type": "code",
   "execution_count": 33,
   "metadata": {},
   "outputs": [],
   "source": [
    "extreme_drought_data = drought_data[drought_data['Drought Level'].isin(['D3', 'D4'])]"
   ]
  },
  {
   "cell_type": "markdown",
   "metadata": {},
   "source": [
    "## Contando la frecuencia de D3 y D4 para cada municipio\n"
   ]
  },
  {
   "cell_type": "code",
   "execution_count": 34,
   "metadata": {},
   "outputs": [],
   "source": [
    "drought_counts = extreme_drought_data.groupby('Index').size().reset_index(name='Count')\n",
    "drought_counts = drought_counts.sort_values(by='Count', ascending=False)\n"
   ]
  },
  {
   "cell_type": "markdown",
   "metadata": {},
   "source": [
    "## Agregando los nombres de los municipios al dataframe"
   ]
  },
  {
   "cell_type": "code",
   "execution_count": 35,
   "metadata": {},
   "outputs": [],
   "source": [
    "drought_counts = pd.merge(drought_counts, data_cleaned[['NOMBRE_MUN', 'ENTIDAD']], left_on='Index', right_index=True)"
   ]
  },
  {
   "cell_type": "markdown",
   "metadata": {},
   "source": [
    "# Mostrando los primeros 10 municipios más afectados"
   ]
  },
  {
   "cell_type": "code",
   "execution_count": 36,
   "metadata": {},
   "outputs": [
    {
     "data": {
      "text/html": [
       "<div>\n",
       "<style scoped>\n",
       "    .dataframe tbody tr th:only-of-type {\n",
       "        vertical-align: middle;\n",
       "    }\n",
       "\n",
       "    .dataframe tbody tr th {\n",
       "        vertical-align: top;\n",
       "    }\n",
       "\n",
       "    .dataframe thead th {\n",
       "        text-align: right;\n",
       "    }\n",
       "</style>\n",
       "<table border=\"1\" class=\"dataframe\">\n",
       "  <thead>\n",
       "    <tr style=\"text-align: right;\">\n",
       "      <th></th>\n",
       "      <th>Index</th>\n",
       "      <th>Count</th>\n",
       "      <th>NOMBRE_MUN</th>\n",
       "      <th>ENTIDAD</th>\n",
       "    </tr>\n",
       "  </thead>\n",
       "  <tbody>\n",
       "    <tr>\n",
       "      <th>14</th>\n",
       "      <td>14</td>\n",
       "      <td>76</td>\n",
       "      <td>Tijuana</td>\n",
       "      <td>Baja California</td>\n",
       "    </tr>\n",
       "    <tr>\n",
       "      <th>15</th>\n",
       "      <td>15</td>\n",
       "      <td>68</td>\n",
       "      <td>Playas de Rosarito</td>\n",
       "      <td>Baja California</td>\n",
       "    </tr>\n",
       "    <tr>\n",
       "      <th>47</th>\n",
       "      <td>49</td>\n",
       "      <td>58</td>\n",
       "      <td>Jiménez</td>\n",
       "      <td>Coahuila de Zaragoza</td>\n",
       "    </tr>\n",
       "    <tr>\n",
       "      <th>1138</th>\n",
       "      <td>2018</td>\n",
       "      <td>58</td>\n",
       "      <td>Nuevo Laredo</td>\n",
       "      <td>Tamaulipas</td>\n",
       "    </tr>\n",
       "    <tr>\n",
       "      <th>58</th>\n",
       "      <td>60</td>\n",
       "      <td>57</td>\n",
       "      <td>Piedras Negras</td>\n",
       "      <td>Coahuila de Zaragoza</td>\n",
       "    </tr>\n",
       "    <tr>\n",
       "      <th>1024</th>\n",
       "      <td>1904</td>\n",
       "      <td>56</td>\n",
       "      <td>Agua Prieta</td>\n",
       "      <td>Sonora</td>\n",
       "    </tr>\n",
       "    <tr>\n",
       "      <th>45</th>\n",
       "      <td>47</td>\n",
       "      <td>55</td>\n",
       "      <td>Guerrero</td>\n",
       "      <td>Coahuila de Zaragoza</td>\n",
       "    </tr>\n",
       "    <tr>\n",
       "      <th>35</th>\n",
       "      <td>37</td>\n",
       "      <td>54</td>\n",
       "      <td>Acuña</td>\n",
       "      <td>Coahuila de Zaragoza</td>\n",
       "    </tr>\n",
       "    <tr>\n",
       "      <th>1125</th>\n",
       "      <td>2005</td>\n",
       "      <td>53</td>\n",
       "      <td>Guerrero</td>\n",
       "      <td>Tamaulipas</td>\n",
       "    </tr>\n",
       "    <tr>\n",
       "      <th>209</th>\n",
       "      <td>259</td>\n",
       "      <td>53</td>\n",
       "      <td>Ojinaga</td>\n",
       "      <td>Chihuahua</td>\n",
       "    </tr>\n",
       "  </tbody>\n",
       "</table>\n",
       "</div>"
      ],
      "text/plain": [
       "      Index  Count          NOMBRE_MUN               ENTIDAD\n",
       "14       14     76             Tijuana       Baja California\n",
       "15       15     68  Playas de Rosarito       Baja California\n",
       "47       49     58             Jiménez  Coahuila de Zaragoza\n",
       "1138   2018     58        Nuevo Laredo            Tamaulipas\n",
       "58       60     57      Piedras Negras  Coahuila de Zaragoza\n",
       "1024   1904     56         Agua Prieta                Sonora\n",
       "45       47     55            Guerrero  Coahuila de Zaragoza\n",
       "35       37     54               Acuña  Coahuila de Zaragoza\n",
       "1125   2005     53            Guerrero            Tamaulipas\n",
       "209     259     53             Ojinaga             Chihuahua"
      ]
     },
     "execution_count": 36,
     "metadata": {},
     "output_type": "execute_result"
    }
   ],
   "source": [
    "top_municipios = drought_counts.head(10)\n",
    "top_municipios"
   ]
  },
  {
   "cell_type": "markdown",
   "metadata": {},
   "source": [
    "# Visualizar los Municipios mas afectados con Seaborn"
   ]
  },
  {
   "cell_type": "markdown",
   "metadata": {},
   "source": [
    "### Configurando el tamaño del gráfico"
   ]
  },
  {
   "cell_type": "code",
   "execution_count": 37,
   "metadata": {},
   "outputs": [
    {
     "data": {
      "text/plain": [
       "<Figure size 1200x800 with 0 Axes>"
      ]
     },
     "execution_count": 37,
     "metadata": {},
     "output_type": "execute_result"
    },
    {
     "data": {
      "text/plain": [
       "<Figure size 1200x800 with 0 Axes>"
      ]
     },
     "metadata": {},
     "output_type": "display_data"
    }
   ],
   "source": [
    "plt.figure(figsize=(12, 8))"
   ]
  },
  {
   "cell_type": "markdown",
   "metadata": {},
   "source": [
    "# Creando un gráfico de barras con Seaborn"
   ]
  },
  {
   "cell_type": "code",
   "execution_count": 44,
   "metadata": {},
   "outputs": [
    {
     "data": {
      "image/png": "[encoded data removed]",
      "text/plain": [
       "<Figure size 1200x800 with 1 Axes>"
      ]
     },
     "metadata": {},
     "output_type": "display_data"
    }
   ],
   "source": [
    "# Configurando el tamaño del gráfico\n",
    "plt.figure(figsize=(12, 8))\n",
    "\n",
    "# Creando un gráfico de barras con Seaborn\n",
    "sns.barplot(x='Count', y='NOMBRE_MUN', data=top_municipios, palette='viridis')\n",
    "\n",
    "# Configurando el título y las etiquetas del gráfico\n",
    "plt.title('Top 10 Municipios Más Afectados por Sequía Extrema (D3 y D4)')\n",
    "plt.xlabel('Frecuencia de Sequía Extrema')\n",
    "plt.ylabel('Municipio')\n",
    "\n",
    "plt.tight_layout()\n",
    "plt.show()"
   ]
  },
  {
   "cell_type": "code",
   "execution_count": 45,
   "metadata": {},
   "outputs": [
    {
     "name": "stdout",
     "output_type": "stream",
     "text": [
      "Note: you may need to restart the kernel to use updated packages.\n"
     ]
    }
   ],
   "source": [
    "pip freeze > requirements.txt\n"
   ]
  },
  {
   "cell_type": "code",
   "execution_count": 46,
   "metadata": {},
   "outputs": [
    {
     "name": "stdout",
     "output_type": "stream",
     "text": [
      "Requirement already satisfied: anyio==3.7.1 in c:\\users\\darth\\sequia-en-mexico-\\venv_sequia_mexico\\lib\\site-packages (from -r requirements.txt (line 1)) (3.7.1)Note: you may need to restart the kernel to use updated packages.\n",
      "\n",
      "Requirement already satisfied: argon2-cffi==23.1.0 in c:\\users\\darth\\sequia-en-mexico-\\venv_sequia_mexico\\lib\\site-packages (from -r requirements.txt (line 2)) (23.1.0)\n",
      "Requirement already satisfied: argon2-cffi-bindings==21.2.0 in c:\\users\\darth\\sequia-en-mexico-\\venv_sequia_mexico\\lib\\site-packages (from -r requirements.txt (line 3)) (21.2.0)\n",
      "Requirement already satisfied: arrow==1.2.3 in c:\\users\\darth\\sequia-en-mexico-\\venv_sequia_mexico\\lib\\site-packages (from -r requirements.txt (line 4)) (1.2.3)\n",
      "Requirement already satisfied: asttokens==2.2.1 in c:\\users\\darth\\sequia-en-mexico-\\venv_sequia_mexico\\lib\\site-packages (from -r requirements.txt (line 5)) (2.2.1)\n",
      "Requirement already satisfied: async-lru==2.0.4 in c:\\users\\darth\\sequia-en-mexico-\\venv_sequia_mexico\\lib\\site-packages (from -r requirements.txt (line 6)) (2.0.4)\n",
      "Requirement already satisfied: attrs==23.1.0 in c:\\users\\darth\\sequia-en-mexico-\\venv_sequia_mexico\\lib\\site-packages (from -r requirements.txt (line 7)) (23.1.0)\n",
      "Requirement already satisfied: Babel==2.12.1 in c:\\users\\darth\\sequia-en-mexico-\\venv_sequia_mexico\\lib\\site-packages (from -r requirements.txt (line 8)) (2.12.1)\n",
      "Requirement already satisfied: backcall==0.2.0 in c:\\users\\darth\\sequia-en-mexico-\\venv_sequia_mexico\\lib\\site-packages (from -r requirements.txt (line 9)) (0.2.0)\n",
      "Requirement already satisfied: beautifulsoup4==4.12.2 in c:\\users\\darth\\sequia-en-mexico-\\venv_sequia_mexico\\lib\\site-packages (from -r requirements.txt (line 10)) (4.12.2)\n",
      "Requirement already satisfied: bleach==6.0.0 in c:\\users\\darth\\sequia-en-mexico-\\venv_sequia_mexico\\lib\\site-packages (from -r requirements.txt (line 11)) (6.0.0)\n",
      "Requirement already satisfied: certifi==2023.7.22 in c:\\users\\darth\\sequia-en-mexico-\\venv_sequia_mexico\\lib\\site-packages (from -r requirements.txt (line 12)) (2023.7.22)\n",
      "Requirement already satisfied: cffi==1.15.1 in c:\\users\\darth\\sequia-en-mexico-\\venv_sequia_mexico\\lib\\site-packages (from -r requirements.txt (line 13)) (1.15.1)\n",
      "Requirement already satisfied: charset-normalizer==3.2.0 in c:\\users\\darth\\sequia-en-mexico-\\venv_sequia_mexico\\lib\\site-packages (from -r requirements.txt (line 14)) (3.2.0)\n",
      "Requirement already satisfied: colorama==0.4.6 in c:\\users\\darth\\sequia-en-mexico-\\venv_sequia_mexico\\lib\\site-packages (from -r requirements.txt (line 15)) (0.4.6)\n",
      "Requirement already satisfied: comm==0.1.4 in c:\\users\\darth\\sequia-en-mexico-\\venv_sequia_mexico\\lib\\site-packages (from -r requirements.txt (line 16)) (0.1.4)\n",
      "Requirement already satisfied: contourpy==1.1.0 in c:\\users\\darth\\sequia-en-mexico-\\venv_sequia_mexico\\lib\\site-packages (from -r requirements.txt (line 17)) (1.1.0)\n",
      "Requirement already satisfied: cycler==0.11.0 in c:\\users\\darth\\sequia-en-mexico-\\venv_sequia_mexico\\lib\\site-packages (from -r requirements.txt (line 18)) (0.11.0)\n",
      "Requirement already satisfied: debugpy==1.6.7.post1 in c:\\users\\darth\\sequia-en-mexico-\\venv_sequia_mexico\\lib\\site-packages (from -r requirements.txt (line 19)) (1.6.7.post1)\n",
      "Requirement already satisfied: decorator==5.1.1 in c:\\users\\darth\\sequia-en-mexico-\\venv_sequia_mexico\\lib\\site-packages (from -r requirements.txt (line 20)) (5.1.1)\n",
      "Requirement already satisfied: defusedxml==0.7.1 in c:\\users\\darth\\sequia-en-mexico-\\venv_sequia_mexico\\lib\\site-packages (from -r requirements.txt (line 21)) (0.7.1)\n",
      "Requirement already satisfied: executing==1.2.0 in c:\\users\\darth\\sequia-en-mexico-\\venv_sequia_mexico\\lib\\site-packages (from -r requirements.txt (line 22)) (1.2.0)\n",
      "Requirement already satisfied: fastjsonschema==2.18.0 in c:\\users\\darth\\sequia-en-mexico-\\venv_sequia_mexico\\lib\\site-packages (from -r requirements.txt (line 23)) (2.18.0)\n",
      "Requirement already satisfied: fonttools==4.42.1 in c:\\users\\darth\\sequia-en-mexico-\\venv_sequia_mexico\\lib\\site-packages (from -r requirements.txt (line 24)) (4.42.1)\n",
      "Requirement already satisfied: fqdn==1.5.1 in c:\\users\\darth\\sequia-en-mexico-\\venv_sequia_mexico\\lib\\site-packages (from -r requirements.txt (line 25)) (1.5.1)\n",
      "Requirement already satisfied: idna==3.4 in c:\\users\\darth\\sequia-en-mexico-\\venv_sequia_mexico\\lib\\site-packages (from -r requirements.txt (line 26)) (3.4)\n",
      "Requirement already satisfied: ipykernel==6.25.1 in c:\\users\\darth\\sequia-en-mexico-\\venv_sequia_mexico\\lib\\site-packages (from -r requirements.txt (line 27)) (6.25.1)\n",
      "Requirement already satisfied: ipython==8.14.0 in c:\\users\\darth\\sequia-en-mexico-\\venv_sequia_mexico\\lib\\site-packages (from -r requirements.txt (line 28)) (8.14.0)\n",
      "Requirement already satisfied: ipython-genutils==0.2.0 in c:\\users\\darth\\sequia-en-mexico-\\venv_sequia_mexico\\lib\\site-packages (from -r requirements.txt (line 29)) (0.2.0)\n",
      "Requirement already satisfied: ipywidgets==8.1.0 in c:\\users\\darth\\sequia-en-mexico-\\venv_sequia_mexico\\lib\\site-packages (from -r requirements.txt (line 30)) (8.1.0)\n",
      "Requirement already satisfied: isoduration==20.11.0 in c:\\users\\darth\\sequia-en-mexico-\\venv_sequia_mexico\\lib\\site-packages (from -r requirements.txt (line 31)) (20.11.0)\n",
      "Requirement already satisfied: jedi==0.19.0 in c:\\users\\darth\\sequia-en-mexico-\\venv_sequia_mexico\\lib\\site-packages (from -r requirements.txt (line 32)) (0.19.0)\n",
      "Requirement already satisfied: Jinja2==3.1.2 in c:\\users\\darth\\sequia-en-mexico-\\venv_sequia_mexico\\lib\\site-packages (from -r requirements.txt (line 33)) (3.1.2)\n",
      "Requirement already satisfied: json5==0.9.14 in c:\\users\\darth\\sequia-en-mexico-\\venv_sequia_mexico\\lib\\site-packages (from -r requirements.txt (line 34)) (0.9.14)\n",
      "Requirement already satisfied: jsonpointer==2.4 in c:\\users\\darth\\sequia-en-mexico-\\venv_sequia_mexico\\lib\\site-packages (from -r requirements.txt (line 35)) (2.4)\n",
      "Requirement already satisfied: jsonschema==4.19.0 in c:\\users\\darth\\sequia-en-mexico-\\venv_sequia_mexico\\lib\\site-packages (from -r requirements.txt (line 36)) (4.19.0)\n",
      "Requirement already satisfied: jsonschema-specifications==2023.7.1 in c:\\users\\darth\\sequia-en-mexico-\\venv_sequia_mexico\\lib\\site-packages (from -r requirements.txt (line 37)) (2023.7.1)\n",
      "Requirement already satisfied: jupyter==1.0.0 in c:\\users\\darth\\sequia-en-mexico-\\venv_sequia_mexico\\lib\\site-packages (from -r requirements.txt (line 38)) (1.0.0)\n",
      "Requirement already satisfied: jupyter-console==6.6.3 in c:\\users\\darth\\sequia-en-mexico-\\venv_sequia_mexico\\lib\\site-packages (from -r requirements.txt (line 39)) (6.6.3)\n",
      "Requirement already satisfied: jupyter-events==0.7.0 in c:\\users\\darth\\sequia-en-mexico-\\venv_sequia_mexico\\lib\\site-packages (from -r requirements.txt (line 40)) (0.7.0)\n",
      "Requirement already satisfied: jupyter-lsp==2.2.0 in c:\\users\\darth\\sequia-en-mexico-\\venv_sequia_mexico\\lib\\site-packages (from -r requirements.txt (line 41)) (2.2.0)\n",
      "Requirement already satisfied: jupyter_client==8.3.1 in c:\\users\\darth\\sequia-en-mexico-\\venv_sequia_mexico\\lib\\site-packages (from -r requirements.txt (line 42)) (8.3.1)\n",
      "Requirement already satisfied: jupyter_core==5.3.1 in c:\\users\\darth\\sequia-en-mexico-\\venv_sequia_mexico\\lib\\site-packages (from -r requirements.txt (line 43)) (5.3.1)\n",
      "Requirement already satisfied: jupyter_server==2.7.2 in c:\\users\\darth\\sequia-en-mexico-\\venv_sequia_mexico\\lib\\site-packages (from -r requirements.txt (line 44)) (2.7.2)\n",
      "Requirement already satisfied: jupyter_server_terminals==0.4.4 in c:\\users\\darth\\sequia-en-mexico-\\venv_sequia_mexico\\lib\\site-packages (from -r requirements.txt (line 45)) (0.4.4)\n",
      "Requirement already satisfied: jupyterlab==4.0.5 in c:\\users\\darth\\sequia-en-mexico-\\venv_sequia_mexico\\lib\\site-packages (from -r requirements.txt (line 46)) (4.0.5)\n",
      "Requirement already satisfied: jupyterlab-pygments==0.2.2 in c:\\users\\darth\\sequia-en-mexico-\\venv_sequia_mexico\\lib\\site-packages (from -r requirements.txt (line 47)) (0.2.2)\n",
      "Requirement already satisfied: jupyterlab-widgets==3.0.8 in c:\\users\\darth\\sequia-en-mexico-\\venv_sequia_mexico\\lib\\site-packages (from -r requirements.txt (line 48)) (3.0.8)\n",
      "Requirement already satisfied: jupyterlab_server==2.24.0 in c:\\users\\darth\\sequia-en-mexico-\\venv_sequia_mexico\\lib\\site-packages (from -r requirements.txt (line 49)) (2.24.0)\n",
      "Requirement already satisfied: kiwisolver==1.4.5 in c:\\users\\darth\\sequia-en-mexico-\\venv_sequia_mexico\\lib\\site-packages (from -r requirements.txt (line 50)) (1.4.5)\n",
      "Requirement already satisfied: MarkupSafe==2.1.3 in c:\\users\\darth\\sequia-en-mexico-\\venv_sequia_mexico\\lib\\site-packages (from -r requirements.txt (line 51)) (2.1.3)\n",
      "Requirement already satisfied: matplotlib==3.7.2 in c:\\users\\darth\\sequia-en-mexico-\\venv_sequia_mexico\\lib\\site-packages (from -r requirements.txt (line 52)) (3.7.2)\n",
      "Requirement already satisfied: matplotlib-inline==0.1.6 in c:\\users\\darth\\sequia-en-mexico-\\venv_sequia_mexico\\lib\\site-packages (from -r requirements.txt (line 53)) (0.1.6)\n",
      "Requirement already satisfied: mistune==3.0.1 in c:\\users\\darth\\sequia-en-mexico-\\venv_sequia_mexico\\lib\\site-packages (from -r requirements.txt (line 54)) (3.0.1)\n",
      "Requirement already satisfied: nbclient==0.8.0 in c:\\users\\darth\\sequia-en-mexico-\\venv_sequia_mexico\\lib\\site-packages (from -r requirements.txt (line 55)) (0.8.0)\n",
      "Requirement already satisfied: nbconvert==7.8.0 in c:\\users\\darth\\sequia-en-mexico-\\venv_sequia_mexico\\lib\\site-packages (from -r requirements.txt (line 56)) (7.8.0)\n",
      "Requirement already satisfied: nbformat==5.9.2 in c:\\users\\darth\\sequia-en-mexico-\\venv_sequia_mexico\\lib\\site-packages (from -r requirements.txt (line 57)) (5.9.2)\n",
      "Requirement already satisfied: nest-asyncio==1.5.7 in c:\\users\\darth\\sequia-en-mexico-\\venv_sequia_mexico\\lib\\site-packages (from -r requirements.txt (line 58)) (1.5.7)\n",
      "Requirement already satisfied: notebook==7.0.2 in c:\\users\\darth\\sequia-en-mexico-\\venv_sequia_mexico\\lib\\site-packages (from -r requirements.txt (line 59)) (7.0.2)\n",
      "Requirement already satisfied: notebook_shim==0.2.3 in c:\\users\\darth\\sequia-en-mexico-\\venv_sequia_mexico\\lib\\site-packages (from -r requirements.txt (line 60)) (0.2.3)\n",
      "Requirement already satisfied: numpy==1.25.2 in c:\\users\\darth\\sequia-en-mexico-\\venv_sequia_mexico\\lib\\site-packages (from -r requirements.txt (line 61)) (1.25.2)\n",
      "Requirement already satisfied: overrides==7.4.0 in c:\\users\\darth\\sequia-en-mexico-\\venv_sequia_mexico\\lib\\site-packages (from -r requirements.txt (line 62)) (7.4.0)\n",
      "Requirement already satisfied: packaging==23.1 in c:\\users\\darth\\sequia-en-mexico-\\venv_sequia_mexico\\lib\\site-packages (from -r requirements.txt (line 63)) (23.1)\n",
      "Requirement already satisfied: pandas==2.0.3 in c:\\users\\darth\\sequia-en-mexico-\\venv_sequia_mexico\\lib\\site-packages (from -r requirements.txt (line 64)) (2.0.3)\n",
      "Requirement already satisfied: pandocfilters==1.5.0 in c:\\users\\darth\\sequia-en-mexico-\\venv_sequia_mexico\\lib\\site-packages (from -r requirements.txt (line 65)) (1.5.0)\n",
      "Requirement already satisfied: parso==0.8.3 in c:\\users\\darth\\sequia-en-mexico-\\venv_sequia_mexico\\lib\\site-packages (from -r requirements.txt (line 66)) (0.8.3)\n",
      "Requirement already satisfied: pickleshare==0.7.5 in c:\\users\\darth\\sequia-en-mexico-\\venv_sequia_mexico\\lib\\site-packages (from -r requirements.txt (line 67)) (0.7.5)\n",
      "Requirement already satisfied: Pillow==10.0.0 in c:\\users\\darth\\sequia-en-mexico-\\venv_sequia_mexico\\lib\\site-packages (from -r requirements.txt (line 68)) (10.0.0)\n",
      "Requirement already satisfied: platformdirs==3.10.0 in c:\\users\\darth\\sequia-en-mexico-\\venv_sequia_mexico\\lib\\site-packages (from -r requirements.txt (line 69)) (3.10.0)\n",
      "Requirement already satisfied: prometheus-client==0.17.1 in c:\\users\\darth\\sequia-en-mexico-\\venv_sequia_mexico\\lib\\site-packages (from -r requirements.txt (line 70)) (0.17.1)\n",
      "Requirement already satisfied: prompt-toolkit==3.0.39 in c:\\users\\darth\\sequia-en-mexico-\\venv_sequia_mexico\\lib\\site-packages (from -r requirements.txt (line 71)) (3.0.39)\n",
      "Requirement already satisfied: psutil==5.9.5 in c:\\users\\darth\\sequia-en-mexico-\\venv_sequia_mexico\\lib\\site-packages (from -r requirements.txt (line 72)) (5.9.5)\n",
      "Requirement already satisfied: pure-eval==0.2.2 in c:\\users\\darth\\sequia-en-mexico-\\venv_sequia_mexico\\lib\\site-packages (from -r requirements.txt (line 73)) (0.2.2)\n",
      "Requirement already satisfied: pycparser==2.21 in c:\\users\\darth\\sequia-en-mexico-\\venv_sequia_mexico\\lib\\site-packages (from -r requirements.txt (line 74)) (2.21)\n",
      "Requirement already satisfied: Pygments==2.16.1 in c:\\users\\darth\\sequia-en-mexico-\\venv_sequia_mexico\\lib\\site-packages (from -r requirements.txt (line 75)) (2.16.1)\n",
      "Requirement already satisfied: pyparsing==3.0.9 in c:\\users\\darth\\sequia-en-mexico-\\venv_sequia_mexico\\lib\\site-packages (from -r requirements.txt (line 76)) (3.0.9)\n",
      "Requirement already satisfied: python-dateutil==2.8.2 in c:\\users\\darth\\sequia-en-mexico-\\venv_sequia_mexico\\lib\\site-packages (from -r requirements.txt (line 77)) (2.8.2)\n",
      "Requirement already satisfied: python-json-logger==2.0.7 in c:\\users\\darth\\sequia-en-mexico-\\venv_sequia_mexico\\lib\\site-packages (from -r requirements.txt (line 78)) (2.0.7)\n",
      "Requirement already satisfied: pytz==2023.3 in c:\\users\\darth\\sequia-en-mexico-\\venv_sequia_mexico\\lib\\site-packages (from -r requirements.txt (line 79)) (2023.3)\n",
      "Requirement already satisfied: pywin32==306 in c:\\users\\darth\\sequia-en-mexico-\\venv_sequia_mexico\\lib\\site-packages (from -r requirements.txt (line 80)) (306)\n",
      "Requirement already satisfied: pywinpty==2.0.11 in c:\\users\\darth\\sequia-en-mexico-\\venv_sequia_mexico\\lib\\site-packages (from -r requirements.txt (line 81)) (2.0.11)\n",
      "Requirement already satisfied: PyYAML==6.0.1 in c:\\users\\darth\\sequia-en-mexico-\\venv_sequia_mexico\\lib\\site-packages (from -r requirements.txt (line 82)) (6.0.1)\n",
      "Requirement already satisfied: pyzmq==25.1.1 in c:\\users\\darth\\sequia-en-mexico-\\venv_sequia_mexico\\lib\\site-packages (from -r requirements.txt (line 83)) (25.1.1)\n",
      "Requirement already satisfied: qtconsole==5.4.3 in c:\\users\\darth\\sequia-en-mexico-\\venv_sequia_mexico\\lib\\site-packages (from -r requirements.txt (line 84)) (5.4.3)\n",
      "Requirement already satisfied: QtPy==2.4.0 in c:\\users\\darth\\sequia-en-mexico-\\venv_sequia_mexico\\lib\\site-packages (from -r requirements.txt (line 85)) (2.4.0)\n",
      "Requirement already satisfied: referencing==0.30.2 in c:\\users\\darth\\sequia-en-mexico-\\venv_sequia_mexico\\lib\\site-packages (from -r requirements.txt (line 86)) (0.30.2)\n",
      "Requirement already satisfied: requests==2.31.0 in c:\\users\\darth\\sequia-en-mexico-\\venv_sequia_mexico\\lib\\site-packages (from -r requirements.txt (line 87)) (2.31.0)\n",
      "Requirement already satisfied: rfc3339-validator==0.1.4 in c:\\users\\darth\\sequia-en-mexico-\\venv_sequia_mexico\\lib\\site-packages (from -r requirements.txt (line 88)) (0.1.4)\n",
      "Requirement already satisfied: rfc3986-validator==0.1.1 in c:\\users\\darth\\sequia-en-mexico-\\venv_sequia_mexico\\lib\\site-packages (from -r requirements.txt (line 89)) (0.1.1)\n",
      "Requirement already satisfied: rpds-py==0.10.0 in c:\\users\\darth\\sequia-en-mexico-\\venv_sequia_mexico\\lib\\site-packages (from -r requirements.txt (line 90)) (0.10.0)\n",
      "Requirement already satisfied: seaborn==0.12.2 in c:\\users\\darth\\sequia-en-mexico-\\venv_sequia_mexico\\lib\\site-packages (from -r requirements.txt (line 91)) (0.12.2)\n",
      "Requirement already satisfied: Send2Trash==1.8.2 in c:\\users\\darth\\sequia-en-mexico-\\venv_sequia_mexico\\lib\\site-packages (from -r requirements.txt (line 92)) (1.8.2)\n",
      "Requirement already satisfied: six==1.16.0 in c:\\users\\darth\\sequia-en-mexico-\\venv_sequia_mexico\\lib\\site-packages (from -r requirements.txt (line 93)) (1.16.0)\n",
      "Requirement already satisfied: sniffio==1.3.0 in c:\\users\\darth\\sequia-en-mexico-\\venv_sequia_mexico\\lib\\site-packages (from -r requirements.txt (line 94)) (1.3.0)\n",
      "Requirement already satisfied: soupsieve==2.4.1 in c:\\users\\darth\\sequia-en-mexico-\\venv_sequia_mexico\\lib\\site-packages (from -r requirements.txt (line 95)) (2.4.1)\n",
      "Requirement already satisfied: stack-data==0.6.2 in c:\\users\\darth\\sequia-en-mexico-\\venv_sequia_mexico\\lib\\site-packages (from -r requirements.txt (line 96)) (0.6.2)\n",
      "Requirement already satisfied: terminado==0.17.1 in c:\\users\\darth\\sequia-en-mexico-\\venv_sequia_mexico\\lib\\site-packages (from -r requirements.txt (line 97)) (0.17.1)\n",
      "Requirement already satisfied: tinycss2==1.2.1 in c:\\users\\darth\\sequia-en-mexico-\\venv_sequia_mexico\\lib\\site-packages (from -r requirements.txt (line 98)) (1.2.1)\n",
      "Requirement already satisfied: tornado==6.3.3 in c:\\users\\darth\\sequia-en-mexico-\\venv_sequia_mexico\\lib\\site-packages (from -r requirements.txt (line 99)) (6.3.3)\n",
      "Requirement already satisfied: traitlets==5.9.0 in c:\\users\\darth\\sequia-en-mexico-\\venv_sequia_mexico\\lib\\site-packages (from -r requirements.txt (line 100)) (5.9.0)\n",
      "Requirement already satisfied: tzdata==2023.3 in c:\\users\\darth\\sequia-en-mexico-\\venv_sequia_mexico\\lib\\site-packages (from -r requirements.txt (line 101)) (2023.3)\n",
      "Requirement already satisfied: uri-template==1.3.0 in c:\\users\\darth\\sequia-en-mexico-\\venv_sequia_mexico\\lib\\site-packages (from -r requirements.txt (line 102)) (1.3.0)\n",
      "Requirement already satisfied: urllib3==2.0.4 in c:\\users\\darth\\sequia-en-mexico-\\venv_sequia_mexico\\lib\\site-packages (from -r requirements.txt (line 103)) (2.0.4)\n",
      "Requirement already satisfied: wcwidth==0.2.6 in c:\\users\\darth\\sequia-en-mexico-\\venv_sequia_mexico\\lib\\site-packages (from -r requirements.txt (line 104)) (0.2.6)\n",
      "Requirement already satisfied: webcolors==1.13 in c:\\users\\darth\\sequia-en-mexico-\\venv_sequia_mexico\\lib\\site-packages (from -r requirements.txt (line 105)) (1.13)\n",
      "Requirement already satisfied: webencodings==0.5.1 in c:\\users\\darth\\sequia-en-mexico-\\venv_sequia_mexico\\lib\\site-packages (from -r requirements.txt (line 106)) (0.5.1)\n",
      "Requirement already satisfied: websocket-client==1.6.2 in c:\\users\\darth\\sequia-en-mexico-\\venv_sequia_mexico\\lib\\site-packages (from -r requirements.txt (line 107)) (1.6.2)\n",
      "Requirement already satisfied: widgetsnbextension==4.0.8 in c:\\users\\darth\\sequia-en-mexico-\\venv_sequia_mexico\\lib\\site-packages (from -r requirements.txt (line 108)) (4.0.8)\n"
     ]
    }
   ],
   "source": [
    "pip install -r requirements.txt\n"
   ]
  },
  {
   "cell_type": "code",
   "execution_count": 50,
   "metadata": {},
   "outputs": [
    {
     "ename": "SyntaxError",
     "evalue": "invalid syntax (1859277030.py, line 1)",
     "output_type": "error",
     "traceback": [
      "\u001b[1;36m  Cell \u001b[1;32mIn[50], line 1\u001b[1;36m\u001b[0m\n\u001b[1;33m    git add Proyecto Bedu.ipynb\u001b[0m\n\u001b[1;37m        ^\u001b[0m\n\u001b[1;31mSyntaxError\u001b[0m\u001b[1;31m:\u001b[0m invalid syntax\n"
     ]
    }
   ],
   "source": [
    "git add Proyecto Bedu.ipynb\n",
    "git commit -m \"Agregando mi Jupyter Notebook\"\n",
    "git push origin main\n"
   ]
  }
 ],
 "metadata": {
  "kernelspec": {
   "display_name": "venv_sequia_mexico",
   "language": "python",
   "name": "python3"
  },
  "language_info": {
   "codemirror_mode": {
    "name": "ipython",
    "version": 3
   },
   "file_extension": ".py",
   "mimetype": "text/x-python",
   "name": "python",
   "nbconvert_exporter": "python",
   "pygments_lexer": "ipython3",
   "version": "3.11.5"
  },
  "orig_nbformat": 4
 },
 "nbformat": 4,
 "nbformat_minor": 2
}
